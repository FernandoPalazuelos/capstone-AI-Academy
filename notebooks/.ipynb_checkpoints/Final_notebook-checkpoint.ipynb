{
 "cells": [
  {
   "cell_type": "markdown",
   "metadata": {},
   "source": [
    "# Breast Cancer Detection Project\n",
    "\n",
    "## Introduction\n",
    "\n",
    "Breast cancer is one of the most common types of cancer among women worldwide. Early detection and accurate diagnosis are crucial for effective treatment and improved patient outcomes. In this project, we developed a predictive model to distinguish between benign and malignant breast tissues using tabular data provided by Mayo Clinic. Our model utilizes various features of cell nuclei obtained from fine needle aspirate (FNA) biopsies of breast masses. These features include:\n",
    "\n",
    "- Clump Thickness\n",
    "- Size Uniformity\n",
    "- Marginal Adhesion\n",
    "- Epithelial Size\n",
    "- Bare Nucleoli\n",
    "- Bland Chromatin\n",
    "- Normal Nucleoli"
   ]
  },
  {
   "cell_type": "markdown",
   "metadata": {},
   "source": [
    "## Data Preprocessing\n",
    "\n",
    "Data preprocessing is a critical step to ensure the quality and reliability of the model. This involves handling missing values, encoding categorical variables, and normalizing the data. Here's a summary of the preprocessing steps we followed:\n",
    "\n",
    "1. **Loading Data**: The dataset was loaded into a pandas DataFrame.\n",
    "2. **Handling Missing Values**: We checked for and handled any missing values to maintain data integrity.\n",
    "3. **Data Cleaning**: Checked the data type and found some atypical values."
   ]
  },
  {
   "cell_type": "markdown",
   "metadata": {},
   "source": [
    "##### Required libraries"
   ]
  },
  {
   "cell_type": "code",
   "execution_count": 1,
   "metadata": {},
   "outputs": [],
   "source": [
    "import numpy as np\n",
    "import pandas as pd\n",
    "import matplotlib.pyplot as plt\n",
    "import seaborn as sns\n",
    "from sklearn.linear_model import LogisticRegression, Ridge, Lasso\n",
    "from sklearn.model_selection import train_test_split, cross_val_score, learning_curve, cross_validate\n",
    "from sklearn.metrics import accuracy_score\n",
    "from sklearn.metrics import mean_squared_error, confusion_matrix, recall_score, precision_score\n",
    "from sklearn.ensemble import GradientBoostingClassifier"
   ]
  },
  {
   "cell_type": "markdown",
   "metadata": {},
   "source": [
    "### 1. **Loading Data**"
   ]
  },
  {
   "cell_type": "code",
   "execution_count": 2,
   "metadata": {},
   "outputs": [
    {
     "data": {
      "text/html": [
       "<div>\n",
       "<style scoped>\n",
       "    .dataframe tbody tr th:only-of-type {\n",
       "        vertical-align: middle;\n",
       "    }\n",
       "\n",
       "    .dataframe tbody tr th {\n",
       "        vertical-align: top;\n",
       "    }\n",
       "\n",
       "    .dataframe thead th {\n",
       "        text-align: right;\n",
       "    }\n",
       "</style>\n",
       "<table border=\"1\" class=\"dataframe\">\n",
       "  <thead>\n",
       "    <tr style=\"text-align: right;\">\n",
       "      <th></th>\n",
       "      <th>id</th>\n",
       "      <th>clump_thickness</th>\n",
       "      <th>size_uniformity</th>\n",
       "      <th>shape_uniformity</th>\n",
       "      <th>marginal_adhesion</th>\n",
       "      <th>epithelial_size</th>\n",
       "      <th>bare_nucleoli</th>\n",
       "      <th>bland_chromatin</th>\n",
       "      <th>normal_nucleoli</th>\n",
       "      <th>mitoses</th>\n",
       "      <th>class</th>\n",
       "    </tr>\n",
       "  </thead>\n",
       "  <tbody>\n",
       "    <tr>\n",
       "      <th>0</th>\n",
       "      <td>1000025</td>\n",
       "      <td>5</td>\n",
       "      <td>1</td>\n",
       "      <td>1</td>\n",
       "      <td>1</td>\n",
       "      <td>2</td>\n",
       "      <td>1</td>\n",
       "      <td>3</td>\n",
       "      <td>1</td>\n",
       "      <td>1</td>\n",
       "      <td>2</td>\n",
       "    </tr>\n",
       "    <tr>\n",
       "      <th>1</th>\n",
       "      <td>1002945</td>\n",
       "      <td>5</td>\n",
       "      <td>4</td>\n",
       "      <td>4</td>\n",
       "      <td>5</td>\n",
       "      <td>7</td>\n",
       "      <td>10</td>\n",
       "      <td>3</td>\n",
       "      <td>2</td>\n",
       "      <td>1</td>\n",
       "      <td>2</td>\n",
       "    </tr>\n",
       "    <tr>\n",
       "      <th>2</th>\n",
       "      <td>1015425</td>\n",
       "      <td>3</td>\n",
       "      <td>1</td>\n",
       "      <td>1</td>\n",
       "      <td>1</td>\n",
       "      <td>2</td>\n",
       "      <td>2</td>\n",
       "      <td>3</td>\n",
       "      <td>1</td>\n",
       "      <td>1</td>\n",
       "      <td>2</td>\n",
       "    </tr>\n",
       "    <tr>\n",
       "      <th>3</th>\n",
       "      <td>1016277</td>\n",
       "      <td>6</td>\n",
       "      <td>8</td>\n",
       "      <td>8</td>\n",
       "      <td>1</td>\n",
       "      <td>3</td>\n",
       "      <td>4</td>\n",
       "      <td>3</td>\n",
       "      <td>7</td>\n",
       "      <td>1</td>\n",
       "      <td>2</td>\n",
       "    </tr>\n",
       "    <tr>\n",
       "      <th>4</th>\n",
       "      <td>1017023</td>\n",
       "      <td>4</td>\n",
       "      <td>1</td>\n",
       "      <td>1</td>\n",
       "      <td>3</td>\n",
       "      <td>2</td>\n",
       "      <td>1</td>\n",
       "      <td>3</td>\n",
       "      <td>1</td>\n",
       "      <td>1</td>\n",
       "      <td>2</td>\n",
       "    </tr>\n",
       "  </tbody>\n",
       "</table>\n",
       "</div>"
      ],
      "text/plain": [
       "        id  clump_thickness  size_uniformity  shape_uniformity  \\\n",
       "0  1000025                5                1                 1   \n",
       "1  1002945                5                4                 4   \n",
       "2  1015425                3                1                 1   \n",
       "3  1016277                6                8                 8   \n",
       "4  1017023                4                1                 1   \n",
       "\n",
       "   marginal_adhesion  epithelial_size bare_nucleoli  bland_chromatin  \\\n",
       "0                  1                2             1                3   \n",
       "1                  5                7            10                3   \n",
       "2                  1                2             2                3   \n",
       "3                  1                3             4                3   \n",
       "4                  3                2             1                3   \n",
       "\n",
       "   normal_nucleoli  mitoses  class  \n",
       "0                1        1      2  \n",
       "1                2        1      2  \n",
       "2                1        1      2  \n",
       "3                7        1      2  \n",
       "4                1        1      2  "
      ]
     },
     "execution_count": 2,
     "metadata": {},
     "output_type": "execute_result"
    }
   ],
   "source": [
    "data = pd.read_csv('../data/breastCancer.csv')\n",
    "data.head()"
   ]
  },
  {
   "cell_type": "markdown",
   "metadata": {},
   "source": [
    "### 2. **Handling Missing Values** (No missing values)"
   ]
  },
  {
   "cell_type": "code",
   "execution_count": 3,
   "metadata": {},
   "outputs": [
    {
     "data": {
      "text/plain": [
       "id                   0\n",
       "clump_thickness      0\n",
       "size_uniformity      0\n",
       "shape_uniformity     0\n",
       "marginal_adhesion    0\n",
       "epithelial_size      0\n",
       "bare_nucleoli        0\n",
       "bland_chromatin      0\n",
       "normal_nucleoli      0\n",
       "mitoses              0\n",
       "class                0\n",
       "dtype: int64"
      ]
     },
     "execution_count": 3,
     "metadata": {},
     "output_type": "execute_result"
    }
   ],
   "source": [
    "data.isna().sum()"
   ]
  },
  {
   "cell_type": "markdown",
   "metadata": {},
   "source": [
    "### 3. **Data Cleaning**\n",
    "- When we looked at the data types, we noticed that the bare_nucleoi does not have numbers\n",
    "- Then we checked the number of unique values in this variable\n",
    "- Found out that there are \"?\" values, so we drop them and change the data type"
   ]
  },
  {
   "cell_type": "code",
   "execution_count": 4,
   "metadata": {},
   "outputs": [
    {
     "data": {
      "text/plain": [
       "id                    int64\n",
       "clump_thickness       int64\n",
       "size_uniformity       int64\n",
       "shape_uniformity      int64\n",
       "marginal_adhesion     int64\n",
       "epithelial_size       int64\n",
       "bare_nucleoli        object\n",
       "bland_chromatin       int64\n",
       "normal_nucleoli       int64\n",
       "mitoses               int64\n",
       "class                 int64\n",
       "dtype: object"
      ]
     },
     "execution_count": 4,
     "metadata": {},
     "output_type": "execute_result"
    }
   ],
   "source": [
    "data.dtypes"
   ]
  },
  {
   "cell_type": "code",
   "execution_count": 5,
   "metadata": {},
   "outputs": [
    {
     "data": {
      "text/plain": [
       "bare_nucleoli\n",
       "1     402\n",
       "10    132\n",
       "2      30\n",
       "5      30\n",
       "3      28\n",
       "8      21\n",
       "4      19\n",
       "?      16\n",
       "9       9\n",
       "7       8\n",
       "6       4\n",
       "Name: count, dtype: int64"
      ]
     },
     "execution_count": 5,
     "metadata": {},
     "output_type": "execute_result"
    }
   ],
   "source": [
    "data['bare_nucleoli'].value_counts()"
   ]
  },
  {
   "cell_type": "code",
   "execution_count": 6,
   "metadata": {},
   "outputs": [
    {
     "data": {
      "text/html": [
       "<div>\n",
       "<style scoped>\n",
       "    .dataframe tbody tr th:only-of-type {\n",
       "        vertical-align: middle;\n",
       "    }\n",
       "\n",
       "    .dataframe tbody tr th {\n",
       "        vertical-align: top;\n",
       "    }\n",
       "\n",
       "    .dataframe thead th {\n",
       "        text-align: right;\n",
       "    }\n",
       "</style>\n",
       "<table border=\"1\" class=\"dataframe\">\n",
       "  <thead>\n",
       "    <tr style=\"text-align: right;\">\n",
       "      <th></th>\n",
       "      <th>clump_thickness</th>\n",
       "      <th>size_uniformity</th>\n",
       "      <th>shape_uniformity</th>\n",
       "      <th>marginal_adhesion</th>\n",
       "      <th>epithelial_size</th>\n",
       "      <th>bare_nucleoli</th>\n",
       "      <th>bland_chromatin</th>\n",
       "      <th>normal_nucleoli</th>\n",
       "      <th>class</th>\n",
       "    </tr>\n",
       "  </thead>\n",
       "  <tbody>\n",
       "    <tr>\n",
       "      <th>0</th>\n",
       "      <td>5</td>\n",
       "      <td>1</td>\n",
       "      <td>1</td>\n",
       "      <td>1</td>\n",
       "      <td>2</td>\n",
       "      <td>1</td>\n",
       "      <td>3</td>\n",
       "      <td>1</td>\n",
       "      <td>2</td>\n",
       "    </tr>\n",
       "    <tr>\n",
       "      <th>1</th>\n",
       "      <td>5</td>\n",
       "      <td>4</td>\n",
       "      <td>4</td>\n",
       "      <td>5</td>\n",
       "      <td>7</td>\n",
       "      <td>10</td>\n",
       "      <td>3</td>\n",
       "      <td>2</td>\n",
       "      <td>2</td>\n",
       "    </tr>\n",
       "    <tr>\n",
       "      <th>2</th>\n",
       "      <td>3</td>\n",
       "      <td>1</td>\n",
       "      <td>1</td>\n",
       "      <td>1</td>\n",
       "      <td>2</td>\n",
       "      <td>2</td>\n",
       "      <td>3</td>\n",
       "      <td>1</td>\n",
       "      <td>2</td>\n",
       "    </tr>\n",
       "    <tr>\n",
       "      <th>3</th>\n",
       "      <td>6</td>\n",
       "      <td>8</td>\n",
       "      <td>8</td>\n",
       "      <td>1</td>\n",
       "      <td>3</td>\n",
       "      <td>4</td>\n",
       "      <td>3</td>\n",
       "      <td>7</td>\n",
       "      <td>2</td>\n",
       "    </tr>\n",
       "    <tr>\n",
       "      <th>4</th>\n",
       "      <td>4</td>\n",
       "      <td>1</td>\n",
       "      <td>1</td>\n",
       "      <td>3</td>\n",
       "      <td>2</td>\n",
       "      <td>1</td>\n",
       "      <td>3</td>\n",
       "      <td>1</td>\n",
       "      <td>2</td>\n",
       "    </tr>\n",
       "    <tr>\n",
       "      <th>...</th>\n",
       "      <td>...</td>\n",
       "      <td>...</td>\n",
       "      <td>...</td>\n",
       "      <td>...</td>\n",
       "      <td>...</td>\n",
       "      <td>...</td>\n",
       "      <td>...</td>\n",
       "      <td>...</td>\n",
       "      <td>...</td>\n",
       "    </tr>\n",
       "    <tr>\n",
       "      <th>694</th>\n",
       "      <td>3</td>\n",
       "      <td>1</td>\n",
       "      <td>1</td>\n",
       "      <td>1</td>\n",
       "      <td>3</td>\n",
       "      <td>2</td>\n",
       "      <td>1</td>\n",
       "      <td>1</td>\n",
       "      <td>2</td>\n",
       "    </tr>\n",
       "    <tr>\n",
       "      <th>695</th>\n",
       "      <td>2</td>\n",
       "      <td>1</td>\n",
       "      <td>1</td>\n",
       "      <td>1</td>\n",
       "      <td>2</td>\n",
       "      <td>1</td>\n",
       "      <td>1</td>\n",
       "      <td>1</td>\n",
       "      <td>2</td>\n",
       "    </tr>\n",
       "    <tr>\n",
       "      <th>696</th>\n",
       "      <td>5</td>\n",
       "      <td>10</td>\n",
       "      <td>10</td>\n",
       "      <td>3</td>\n",
       "      <td>7</td>\n",
       "      <td>3</td>\n",
       "      <td>8</td>\n",
       "      <td>10</td>\n",
       "      <td>4</td>\n",
       "    </tr>\n",
       "    <tr>\n",
       "      <th>697</th>\n",
       "      <td>4</td>\n",
       "      <td>8</td>\n",
       "      <td>6</td>\n",
       "      <td>4</td>\n",
       "      <td>3</td>\n",
       "      <td>4</td>\n",
       "      <td>10</td>\n",
       "      <td>6</td>\n",
       "      <td>4</td>\n",
       "    </tr>\n",
       "    <tr>\n",
       "      <th>698</th>\n",
       "      <td>4</td>\n",
       "      <td>8</td>\n",
       "      <td>8</td>\n",
       "      <td>5</td>\n",
       "      <td>4</td>\n",
       "      <td>5</td>\n",
       "      <td>10</td>\n",
       "      <td>4</td>\n",
       "      <td>4</td>\n",
       "    </tr>\n",
       "  </tbody>\n",
       "</table>\n",
       "<p>683 rows × 9 columns</p>\n",
       "</div>"
      ],
      "text/plain": [
       "     clump_thickness  size_uniformity  shape_uniformity  marginal_adhesion  \\\n",
       "0                  5                1                 1                  1   \n",
       "1                  5                4                 4                  5   \n",
       "2                  3                1                 1                  1   \n",
       "3                  6                8                 8                  1   \n",
       "4                  4                1                 1                  3   \n",
       "..               ...              ...               ...                ...   \n",
       "694                3                1                 1                  1   \n",
       "695                2                1                 1                  1   \n",
       "696                5               10                10                  3   \n",
       "697                4                8                 6                  4   \n",
       "698                4                8                 8                  5   \n",
       "\n",
       "     epithelial_size  bare_nucleoli  bland_chromatin  normal_nucleoli  class  \n",
       "0                  2              1                3                1      2  \n",
       "1                  7             10                3                2      2  \n",
       "2                  2              2                3                1      2  \n",
       "3                  3              4                3                7      2  \n",
       "4                  2              1                3                1      2  \n",
       "..               ...            ...              ...              ...    ...  \n",
       "694                3              2                1                1      2  \n",
       "695                2              1                1                1      2  \n",
       "696                7              3                8               10      4  \n",
       "697                3              4               10                6      4  \n",
       "698                4              5               10                4      4  \n",
       "\n",
       "[683 rows x 9 columns]"
      ]
     },
     "execution_count": 6,
     "metadata": {},
     "output_type": "execute_result"
    }
   ],
   "source": [
    "data = data[data['bare_nucleoli']!='?']\n",
    "data['bare_nucleoli'] = data['bare_nucleoli'].astype(int)\n",
    "data.drop(['mitoses', 'id'], axis=1, inplace=True)\n",
    "data"
   ]
  },
  {
   "cell_type": "markdown",
   "metadata": {},
   "source": [
    "## Exploratory Data Analysis (EDA)\n",
    "\n",
    "Exploratory Data Analysis helps us understand the relationships between features and the target variable, as well as the distribution and balance of classes.\n",
    "\n",
    "\n",
    "Insights:\n",
    "- We found that all variables except mitoses are highly related\n",
    "- We have a slight class imbalance"
   ]
  },
  {
   "cell_type": "markdown",
   "metadata": {},
   "source": [
    "### Correlation Matrix\n",
    "\n",
    "We plotted a correlation matrix to visualize the relationships between the features and the target variable. This helps in identifying which features are most strongly correlated with malignancy."
   ]
  },
  {
   "cell_type": "code",
   "execution_count": 7,
   "metadata": {},
   "outputs": [
    {
     "data": {
      "image/png": "[encoded data removed]",
      "text/plain": [
       "<Figure size 640x480 with 2 Axes>"
      ]
     },
     "metadata": {},
     "output_type": "display_data"
    }
   ],
   "source": [
    "#Creating correlation matrix\n",
    "matrix = data.corr().round(1)\n",
    "\n",
    "# Correlation heat map for correlation matrix\n",
    "sns.heatmap(matrix, annot=True)\n",
    "plt.title(\"Heat map Correlation Matrix \\n\")\n",
    "plt.show()"
   ]
  },
  {
   "cell_type": "markdown",
   "metadata": {},
   "source": [
    "### Box Plots of Variables\n",
    "\n",
    "Box plots were created for each feature to compare the distribution of values between benign and malignant cases. These plots highlight any significant differences in feature values across the classes."
   ]
  },
  {
   "cell_type": "code",
   "execution_count": 16,
   "metadata": {},
   "outputs": [
    {
     "data": {
      "text/plain": [
       "<Figure size 3000x3000 with 0 Axes>"
      ]
     },
     "metadata": {},
     "output_type": "display_data"
    },
    {
     "data": {
      "image/png": "[encoded data removed]",
      "text/plain": [
       "<Figure size 640x480 with 1 Axes>"
      ]
     },
     "metadata": {},
     "output_type": "display_data"
    }
   ],
   "source": [
    "#Drop class (since it's string)\n",
    "boxplot_data = data.drop(['class'], axis=1)\n",
    "# Box plot - outliners \n",
    "plt.figure(figsize=(30,30))\n",
    "boxplot_data.plot.box(grid=False, rot=45, fontsize=8)\n",
    "plt.tight_layout()\n",
    "plt.title(\"Box plot\")\n",
    "plt.show()"
   ]
  },
  {
   "cell_type": "markdown",
   "metadata": {},
   "source": [
    "### Class Balance\n",
    "\n",
    "We also examined the balance of classes in our dataset. This is crucial because an imbalanced dataset can lead to biased model predictions. Our data showed the following class distribution:\n",
    "\n",
    "- Class 2: Benign\n",
    "- Class 4: Malignant"
   ]
  },
  {
   "cell_type": "code",
   "execution_count": 9,
   "metadata": {},
   "outputs": [
    {
     "data": {
      "image/png": "[encoded data removed]",
      "text/plain": [
       "<Figure size 640x480 with 1 Axes>"
      ]
     },
     "metadata": {},
     "output_type": "display_data"
    }
   ],
   "source": [
    "# ploting class ---\n",
    "x_values = data['class'].unique()\n",
    "y_values = data['class'].value_counts().tolist()\n",
    "\n",
    "# x axis new names - plot \n",
    "x_names = ['Benign', 'Malignant']\n",
    "\n",
    "# plot\n",
    "ax = plt.subplot()\n",
    "plt.bar(x_values,y_values, color = ['green', 'purple'])\n",
    "plt.title('Benign vs. Malignant')\n",
    "ax.set_xlabel(\"Class\")\n",
    "plt.xticks(x_values, x_names)\n",
    "plt.show()"
   ]
  },
  {
   "cell_type": "markdown",
   "metadata": {},
   "source": [
    "## Baseline Model: Logistic Regression\n",
    "\n",
    "To establish a baseline for comparison, we first implemented a logistic regression model. Logistic regression is a simple yet effective model for binary classification tasks."
   ]
  },
  {
   "cell_type": "markdown",
   "metadata": {},
   "source": [
    "Although widely used, linear regression isn't suitable for certain medical outcomes. Like linear regression, logistic regression can incorporate one or several independent variables. However, analyzing multiple variables is typically more revealing, as it shows the distinct impact of each variable when the effects of others are controlled for.\n",
    "\n",
    "Logistic regression provides an effective and robust method to evaluate how independent variables influence a binary outcome. However, its precision largely relies on meticulous selection of variables that meet fundamental assumptions, along with strategic model development and thorough validation of findings."
   ]
  },
  {
   "cell_type": "markdown",
   "metadata": {},
   "source": [
    "### Split into train and test \n",
    "We decided to use 25% of the dataset for test and the rest for training the model"
   ]
  },
  {
   "cell_type": "code",
   "execution_count": 10,
   "metadata": {},
   "outputs": [],
   "source": [
    "df_x = data[['clump_thickness', 'size_uniformity', 'shape_uniformity',\n",
    "       'marginal_adhesion', 'epithelial_size', 'bare_nucleoli',\n",
    "       'bland_chromatin', 'normal_nucleoli']] \n",
    "\n",
    "df_y = data[\"class\"]\n",
    "\n",
    "Xtrain, Xtest, ytrain, ytest = train_test_split(df_x.values, df_y.values,random_state=1)"
   ]
  },
  {
   "cell_type": "markdown",
   "metadata": {},
   "source": [
    "### Model Training\n",
    "\n",
    "The logistic regression model was trained on the processed dataset."
   ]
  },
  {
   "cell_type": "code",
   "execution_count": 11,
   "metadata": {},
   "outputs": [],
   "source": [
    "model = LogisticRegression(fit_intercept = True)\n",
    "model.fit(Xtrain,ytrain)\n",
    "pred_y = model.predict(Xtest)\n",
    "acc = accuracy_score(ytest, pred_y)"
   ]
  },
  {
   "cell_type": "code",
   "execution_count": 12,
   "metadata": {},
   "outputs": [
    {
     "name": "stdout",
     "output_type": "stream",
     "text": [
      "accuracy of the model: 0.9824561403508771\n",
      "score of the cross validation: 0.9664322250639387\n",
      "Matrix of confusion: \n",
      "[[111   0]\n",
      " [  3  57]]\n",
      "0.975\n",
      "0.986842105263158\n"
     ]
    }
   ],
   "source": [
    "print(\"accuracy of the model: \"+ str(acc))\n",
    "print(\"score of the cross validation: \" + str(cross_val_score(model,df_x,df_y, cv=10).mean()))\n",
    "print(\"Matrix of confusion: \\n\" + str(confusion_matrix(ytest, pred_y)))\n",
    "print(recall_score(ytest, pred_y, average='macro'))\n",
    "print(precision_score(ytest, pred_y, average='macro'))"
   ]
  },
  {
   "cell_type": "markdown",
   "metadata": {},
   "source": [
    "### Model Evaluation\n",
    "\n",
    "The performance of the logistic regression model was evaluated using the following metrics:\n",
    "\n",
    "- **Accuracy (ACC)**: Measures the proportion of correctly classified instances.\n",
    "- **Precision**: The ratio of true positive predictions to the total predicted positives.\n",
    "- **Recall**: The ratio of true positive predictions to the total actual positives.\n",
    "- **Confusion Matrix**: Provides a summary of the prediction results on the classification problem.\n",
    "\n",
    "| Metric           | Value  |\n",
    "|------------------|--------|\n",
    "| Accuracy         | 0.98   |\n",
    "| Precision        | 0.98   |\n",
    "| Recall           | 0.97   |\n",
    "| Confusion Matrix | [[111, 0], [3, 57]] |"
   ]
  },
  {
   "cell_type": "markdown",
   "metadata": {},
   "source": [
    "## Improved Model: XGBoost\n",
    "\n",
    "Building on the baseline model, we implemented an XGBoost classifier. XGBoost is a powerful ensemble learning algorithm known for its high performance and accuracy in classification tasks.\n"
   ]
  },
  {
   "cell_type": "markdown",
   "metadata": {},
   "source": [
    "### Model Training\n",
    "\n",
    "The XGBoost model was trained using the same training and testing split. XGBoost's ability to handle missing values and its regularization capabilities make it a robust choice for our prediction task."
   ]
  },
  {
   "cell_type": "code",
   "execution_count": 13,
   "metadata": {},
   "outputs": [
    {
     "name": "stdout",
     "output_type": "stream",
     "text": [
      "The accuracy with Gradient boost  is 0.9941520467836257\n",
      "score of the cross validation:  0.9649190110826942\n",
      "Matrix of confusion: \n",
      "[[111   0]\n",
      " [  1  59]]\n",
      "0.9916666666666667\n",
      "0.9955357142857143\n"
     ]
    }
   ],
   "source": [
    "clf = GradientBoostingClassifier(n_estimators=300, learning_rate=0.1, max_depth=4, random_state=0).fit(Xtrain, ytrain)\n",
    "pred_y = clf.predict(Xtest)\n",
    "print(\"The accuracy with Gradient boost  is\", accuracy_score(ytest, pred_y))\n",
    "print(\"score of the cross validation: \", cross_val_score(clf,df_x,df_y, cv=10).mean())\n",
    "print(\"Matrix of confusion: \\n\" + str(confusion_matrix(ytest, pred_y)))\n",
    "print(recall_score(ytest, pred_y, average='macro'))\n",
    "print(precision_score(ytest, pred_y, average='macro'))"
   ]
  },
  {
   "cell_type": "markdown",
   "metadata": {},
   "source": [
    "### Model Evaluation\n",
    "\n",
    "The XGBoost model's performance was evaluated using the same set of metrics:\n",
    "\n",
    "- **Accuracy (ACC)**: Measures the proportion of correctly classified instances.\n",
    "- **Precision**: The ratio of true positive predictions to the total predicted positives.\n",
    "- **Recall**: The ratio of true positive predictions to the total actual positives.\n",
    "- **False Positive Rate (FPR)**: The ratio of false positives to the total actual negatives.\n",
    "- **Confusion Matrix**: Provides a summary of the prediction results on the classification problem.\n",
    "\n",
    "| Metric           | Value  |\n",
    "|------------------|--------|\n",
    "| Accuracy         | 0.99   |\n",
    "| Precision        | 0.99   |\n",
    "| Recall           | 0.99   |\n",
    "| Confusion Matrix | [[111, 0], [1, 59]] |"
   ]
  },
  {
   "cell_type": "code",
   "execution_count": 14,
   "metadata": {},
   "outputs": [
    {
     "data": {
      "text/plain": [
       "Text(0.5, 0.98, 'Average Cross-Validation Scores')"
      ]
     },
     "execution_count": 14,
     "metadata": {},
     "output_type": "execute_result"
    },
    {
     "data": {
      "image/png": "[encoded data removed]",
      "text/plain": [
       "<Figure size 640x480 with 2 Axes>"
      ]
     },
     "metadata": {},
     "output_type": "display_data"
    }
   ],
   "source": [
    "cross_val_results_1 = cross_validate(model, df_x, df_y,return_train_score=True)\n",
    "cross_val_results_2 = cross_validate(clf, df_x, df_y,return_train_score=True)\n",
    "labels = [\"Train\", \"Test\"]\n",
    "colors = [\"#00B3E6\", \"#FFC51B\"]\n",
    "fig, ax = plt.subplots(1,2)\n",
    "ax[0].bar(labels, [cross_val_results_1['train_score'].mean(),cross_val_results_1['test_score'].mean()], color=colors)\n",
    "ax[0].set_ylabel(\"Accuracy\")\n",
    "ax[0].set_title('First model')\n",
    "\n",
    "ax[1].bar(labels, [cross_val_results_2['train_score'].mean(),cross_val_results_2['test_score'].mean()], color=colors)\n",
    "ax[1].set_title('Second model')\n",
    "\n",
    "fig.suptitle(\"Average Cross-Validation Scores\")"
   ]
  },
  {
   "cell_type": "code",
   "execution_count": null,
   "metadata": {},
   "outputs": [],
   "source": []
  },
  {
   "cell_type": "code",
   "execution_count": null,
   "metadata": {},
   "outputs": [],
   "source": []
  }
 ],
 "metadata": {
  "kernelspec": {
   "display_name": "Python 3 (ipykernel)",
   "language": "python",
   "name": "python3"
  },
  "language_info": {
   "codemirror_mode": {
    "name": "ipython",
    "version": 3
   },
   "file_extension": ".py",
   "mimetype": "text/x-python",
   "name": "python",
   "nbconvert_exporter": "python",
   "pygments_lexer": "ipython3",
   "version": "3.11.7"
  }
 },
 "nbformat": 4,
 "nbformat_minor": 4
}
